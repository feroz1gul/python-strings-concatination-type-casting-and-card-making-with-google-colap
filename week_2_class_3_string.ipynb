{
  "nbformat": 4,
  "nbformat_minor": 0,
  "metadata": {
    "colab": {
      "provenance": []
    },
    "kernelspec": {
      "name": "python3",
      "display_name": "Python 3"
    },
    "language_info": {
      "name": "python"
    }
  },
  "cells": [
    {
      "cell_type": "code",
      "execution_count": 5,
      "metadata": {
        "colab": {
          "base_uri": "https://localhost:8080/",
          "height": 145
        },
        "id": "XHKaw5jwuu90",
        "outputId": "751828ba-197b-48ea-db9b-4c83ce467fe1"
      },
      "outputs": [
        {
          "output_type": "error",
          "ename": "SyntaxError",
          "evalue": "ignored",
          "traceback": [
            "\u001b[0;36m  File \u001b[0;32m\"<ipython-input-5-607ec90fffcc>\"\u001b[0;36m, line \u001b[0;32m1\u001b[0m\n\u001b[0;31m    data = 'pakistan zindabad' 213#$@9djsad \"hello world'\u001b[0m\n\u001b[0m                               ^\u001b[0m\n\u001b[0;31mSyntaxError\u001b[0m\u001b[0;31m:\u001b[0m invalid syntax\n"
          ]
        }
      ],
      "source": [
        "data = 'pakistan zindabad' 213#$@9djsad \"hello world'\n",
        "\n",
        "print (type(data))"
      ]
    },
    {
      "cell_type": "code",
      "source": [
        "data = 'pakistan zindabad\\' 213#$@9djsad \"hello world'\n",
        "\n",
        "print(data)\n",
        "print (type(data))"
      ],
      "metadata": {
        "colab": {
          "base_uri": "https://localhost:8080/"
        },
        "id": "3DnODSjMyPSx",
        "outputId": "106f0087-922f-4814-c560-22ae56efa8d0"
      },
      "execution_count": 7,
      "outputs": [
        {
          "output_type": "stream",
          "name": "stdout",
          "text": [
            "pakistan zindabad' 213#$@9djsad \"hello world\n",
            "<class 'str'>\n"
          ]
        }
      ]
    },
    {
      "cell_type": "code",
      "source": [
        "fgd = \"line of control 1\"\\\n",
        "\"line of control 2\"\\\n",
        "\"line of control 3\"\n",
        "\n",
        "print(fgd)\n",
        "print(type(fgd))"
      ],
      "metadata": {
        "colab": {
          "base_uri": "https://localhost:8080/"
        },
        "id": "52ZlqkmXzB1M",
        "outputId": "63211a24-1d5e-4cec-a99f-eeb52c27aa4f"
      },
      "execution_count": 10,
      "outputs": [
        {
          "output_type": "stream",
          "name": "stdout",
          "text": [
            "line of control 1line of control 2line of control 3\n",
            "<class 'str'>\n"
          ]
        }
      ]
    },
    {
      "cell_type": "code",
      "source": [
        "fgd = \"\"\"\n",
        "hello world\n",
        "pakistan zindabad\n",
        "karachi the city of lights\n",
        "\"\"\"\n",
        "fgd"
      ],
      "metadata": {
        "colab": {
          "base_uri": "https://localhost:8080/",
          "height": 36
        },
        "id": "Vn40iTdx0FRW",
        "outputId": "06ef3b62-d45d-4051-97a5-dffa8903bffe"
      },
      "execution_count": 11,
      "outputs": [
        {
          "output_type": "execute_result",
          "data": {
            "text/plain": [
              "'\\nhello world \\npakistan zindabad\\nkarachi the city of lights\\n'"
            ],
            "application/vnd.google.colaboratory.intrinsic+json": {
              "type": "string"
            }
          },
          "metadata": {},
          "execution_count": 11
        }
      ]
    },
    {
      "cell_type": "code",
      "source": [
        "fgd = \"\"\"\n",
        "hello world\n",
        "pakistan zindabad\n",
        "karachi the city of lights\n",
        "\"\"\"\n",
        "\n",
        "print(fgd)\n",
        "print(type(fgd))"
      ],
      "metadata": {
        "colab": {
          "base_uri": "https://localhost:8080/"
        },
        "id": "S_rDs4OCvUU-",
        "outputId": "1069ab34-006e-4886-c749-aab6869b2489"
      },
      "execution_count": 12,
      "outputs": [
        {
          "output_type": "stream",
          "name": "stdout",
          "text": [
            "\n",
            "hello world \n",
            "pakistan zindabad\n",
            "karachi the city of lights\n",
            "\n",
            "<class 'str'>\n"
          ]
        }
      ]
    },
    {
      "cell_type": "code",
      "source": [
        "#concatination\n",
        "\n",
        "\"1\" + 1\n",
        "\n"
      ],
      "metadata": {
        "colab": {
          "base_uri": "https://localhost:8080/",
          "height": 236
        },
        "id": "XZitqT-o1lhS",
        "outputId": "2cfca5b4-3862-4d32-e5d4-9e0e38e782c0"
      },
      "execution_count": 13,
      "outputs": [
        {
          "output_type": "error",
          "ename": "TypeError",
          "evalue": "ignored",
          "traceback": [
            "\u001b[0;31m---------------------------------------------------------------------------\u001b[0m",
            "\u001b[0;31mTypeError\u001b[0m                                 Traceback (most recent call last)",
            "\u001b[0;32m<ipython-input-13-6f3ce5a25985>\u001b[0m in \u001b[0;36m<cell line: 3>\u001b[0;34m()\u001b[0m\n\u001b[1;32m      1\u001b[0m \u001b[0;31m#concatination\u001b[0m\u001b[0;34m\u001b[0m\u001b[0;34m\u001b[0m\u001b[0m\n\u001b[1;32m      2\u001b[0m \u001b[0;34m\u001b[0m\u001b[0m\n\u001b[0;32m----> 3\u001b[0;31m \u001b[0;34m\"1\"\u001b[0m \u001b[0;34m+\u001b[0m \u001b[0;36m1\u001b[0m\u001b[0;34m\u001b[0m\u001b[0;34m\u001b[0m\u001b[0m\n\u001b[0m\u001b[1;32m      4\u001b[0m \u001b[0;34m\u001b[0m\u001b[0m\n",
            "\u001b[0;31mTypeError\u001b[0m: can only concatenate str (not \"int\") to str"
          ]
        }
      ]
    },
    {
      "cell_type": "code",
      "source": [
        "\"1\" + \"1\""
      ],
      "metadata": {
        "colab": {
          "base_uri": "https://localhost:8080/",
          "height": 36
        },
        "id": "MKhEbDvm2yEj",
        "outputId": "46301df3-fc39-434b-ca74-d22751d2af49"
      },
      "execution_count": 14,
      "outputs": [
        {
          "output_type": "execute_result",
          "data": {
            "text/plain": [
              "'11'"
            ],
            "application/vnd.google.colaboratory.intrinsic+json": {
              "type": "string"
            }
          },
          "metadata": {},
          "execution_count": 14
        }
      ]
    },
    {
      "cell_type": "code",
      "source": [
        "1+1"
      ],
      "metadata": {
        "colab": {
          "base_uri": "https://localhost:8080/"
        },
        "id": "zeQ8gNK822fY",
        "outputId": "1fcfb23b-fa29-4163-9564-f4c07ad269a4"
      },
      "execution_count": 15,
      "outputs": [
        {
          "output_type": "execute_result",
          "data": {
            "text/plain": [
              "2"
            ]
          },
          "metadata": {},
          "execution_count": 15
        }
      ]
    },
    {
      "cell_type": "code",
      "source": [
        "a = input(\"enter no1\")\n",
        "b = input(\"enter no2\")\n",
        "\n",
        "print(type(a), type(b))\n",
        "print(a + b)\n",
        "\n"
      ],
      "metadata": {
        "colab": {
          "base_uri": "https://localhost:8080/"
        },
        "id": "0RgRjj2c2-eF",
        "outputId": "943008ab-bd5a-4d0a-bc8f-ff62ebaaeff9"
      },
      "execution_count": 19,
      "outputs": [
        {
          "output_type": "stream",
          "name": "stdout",
          "text": [
            "enter no17\n",
            "enter no28\n",
            "<class 'str'> <class 'str'>\n",
            "78\n"
          ]
        }
      ]
    },
    {
      "cell_type": "code",
      "source": [
        "#type casting\n",
        "\n",
        "a = \"7\"\n",
        "print(a, type(a))\n",
        "a = int(a)\n",
        "print(a, type(a))\n"
      ],
      "metadata": {
        "colab": {
          "base_uri": "https://localhost:8080/"
        },
        "id": "eQR-Dy2h4x3Y",
        "outputId": "976edcb7-c5cb-4abe-cef4-3db2206341bf"
      },
      "execution_count": 22,
      "outputs": [
        {
          "output_type": "stream",
          "name": "stdout",
          "text": [
            "7 <class 'str'>\n",
            "7 <class 'int'>\n"
          ]
        }
      ]
    },
    {
      "cell_type": "code",
      "source": [
        "a = \"7\"\n",
        "print(a, type(a))\n",
        "a = float(a)\n",
        "print(a, type(a))"
      ],
      "metadata": {
        "colab": {
          "base_uri": "https://localhost:8080/"
        },
        "id": "7EkDoYhy6aMx",
        "outputId": "cb80f93b-b97c-4c5e-cf26-4d21b8150fbd"
      },
      "execution_count": 23,
      "outputs": [
        {
          "output_type": "stream",
          "name": "stdout",
          "text": [
            "7 <class 'str'>\n",
            "7.0 <class 'float'>\n"
          ]
        }
      ]
    },
    {
      "cell_type": "code",
      "source": [
        "a = input(\"enter no1\")\n",
        "b = input(\"enter no2\")\n",
        "\n",
        "print(type(a), type(b))\n",
        "print(a + b)"
      ],
      "metadata": {
        "id": "431WRZMN7BXp"
      },
      "execution_count": null,
      "outputs": []
    },
    {
      "cell_type": "code",
      "source": [
        "#card making\n",
        "roll_no = 2000\n",
        "name = \"feroz gul\"\n",
        "fname = \"khameeso khan\"\n",
        "contact_no = \"03053075434\"\n",
        "card = \"NED university \\nstudent roll no:\" + str(roll_no)+\\\n",
        "\"\\nstudent name: \" + name + \"\\nfather's name:\" +fname\\\n",
        "+\"\\ncontact no:\" +contact_no\n",
        "\n",
        "\n",
        "print(card)\n"
      ],
      "metadata": {
        "colab": {
          "base_uri": "https://localhost:8080/"
        },
        "id": "qHhXJ1oX-Jql",
        "outputId": "5808ffaf-1932-4e10-c8eb-9c66709013a9"
      },
      "execution_count": 55,
      "outputs": [
        {
          "output_type": "stream",
          "name": "stdout",
          "text": [
            "NED university \n",
            "student roll no:2000\n",
            "student name: feroz gul\n",
            "father's name:khameeso khan\n",
            "contact no:03053075434\n"
          ]
        }
      ]
    },
    {
      "cell_type": "code",
      "source": [
        "#card with \"\"\" open close \\t for tabe\n",
        "\n",
        "roll_no = 2000\n",
        "name = \"feroz gul\"\n",
        "fname = \"khameeso khan\"\n",
        "contact_no = \"03053075434\"\n",
        "\n",
        "card = \"\"\"NED university\n",
        "student roll no:\\t{}\n",
        "student name:\\t\\t{}\n",
        "father's name:\\t\\t{}\n",
        "contact no:\\t\\t{}\"\"\".format(roll_no,name,fname,contact_no)\n",
        "print (card)"
      ],
      "metadata": {
        "colab": {
          "base_uri": "https://localhost:8080/"
        },
        "id": "z0bw720W-nWp",
        "outputId": "5dbbab3f-d3b1-472b-9c46-5c5f6459a162"
      },
      "execution_count": 10,
      "outputs": [
        {
          "output_type": "stream",
          "name": "stdout",
          "text": [
            "NED university \n",
            "student roll no:\t2000\n",
            "student name:\t\tferoz gul\n",
            "father's name:\t\tkhameeso khan\n",
            "contact no:\t\t03053075434\n"
          ]
        }
      ]
    },
    {
      "cell_type": "code",
      "source": [
        "#card with \"\"\" open close \\t for tabe\n",
        "\n",
        "roll_no = 2000\n",
        "name = \"feroz gul\"\n",
        "fname = \"khameeso khan\"\n",
        "contact_no = \"03053075434\"\n",
        "\n",
        "card = \"\"\"NED university\n",
        "student roll no:\\t{}\n",
        "student name:\\t\\t{}\n",
        "father's name:\\t\\t{}\n",
        "contact no:\\t\\t{}\"\"\".format(roll_no,name,fname,contact_no)\n",
        "print (card)\n",
        "\n",
        "# index number              0       1      2     3"
      ],
      "metadata": {
        "colab": {
          "base_uri": "https://localhost:8080/"
        },
        "id": "C-7xkU0lxcZf",
        "outputId": "6f782d66-8fa5-4146-f6a3-2cc4fe2b7f82"
      },
      "execution_count": 11,
      "outputs": [
        {
          "output_type": "stream",
          "name": "stdout",
          "text": [
            "NED university \n",
            "student roll no:\t2000\n",
            "student name:\t\tferoz gul\n",
            "father's name:\t\tkhameeso khan\n",
            "contact no:\t\t03053075434\n"
          ]
        }
      ]
    },
    {
      "cell_type": "code",
      "source": [
        "# veriable\n",
        "# pythone with the rule of \"f\"\n",
        "\n",
        "roll_no = 2000\n",
        "name = \"feroz gul\"\n",
        "fname = \"khameeso khan\"\n",
        "contact_no = \"03053075434\"\n",
        "card = f\"\"\"NED university\n",
        "student roll no:\t{roll_no}\n",
        "student name:\t\t{name}\n",
        "father's name:\t\t{fname}\n",
        "contact no:\t\t{contact_no}\"\"\"\n",
        "print(card)"
      ],
      "metadata": {
        "colab": {
          "base_uri": "https://localhost:8080/"
        },
        "id": "XEy5Tgypyoxj",
        "outputId": "750af07b-7847-4aa0-e052-ffc32266a20a"
      },
      "execution_count": 17,
      "outputs": [
        {
          "output_type": "stream",
          "name": "stdout",
          "text": [
            "NED university \n",
            "student roll no:\t2000\n",
            "student name:\t\tferoz gul\n",
            "father's name:\t\tkhameeso khan\n",
            "contact no:\t\t03053075434\n"
          ]
        }
      ]
    }
  ]
}